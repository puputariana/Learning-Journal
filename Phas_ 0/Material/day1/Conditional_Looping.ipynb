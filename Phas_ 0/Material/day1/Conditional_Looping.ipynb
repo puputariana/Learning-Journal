{
 "cells": [
  {
   "cell_type": "code",
   "execution_count": 3,
   "metadata": {},
   "outputs": [
    {
     "name": "stdout",
     "output_type": "stream",
     "text": [
      "15\n"
     ]
    }
   ],
   "source": [
    "angka = 15 #sama dengan adalah assignment\n",
    "print(angka)"
   ]
  },
  {
   "cell_type": "code",
   "execution_count": 4,
   "metadata": {},
   "outputs": [
    {
     "ename": "NameError",
     "evalue": "name 'Angka' is not defined",
     "output_type": "error",
     "traceback": [
      "\u001b[0;31m---------------------------------------------------------------------------\u001b[0m",
      "\u001b[0;31mNameError\u001b[0m                                 Traceback (most recent call last)",
      "\u001b[0;32m/var/folders/x9/8q15dpts6k7fkmqpl34bdnmw0000gn/T/ipykernel_3016/3102141322.py\u001b[0m in \u001b[0;36m<module>\u001b[0;34m\u001b[0m\n\u001b[1;32m      1\u001b[0m \u001b[0mangka\u001b[0m \u001b[0;34m=\u001b[0m \u001b[0;36m10\u001b[0m \u001b[0;31m#variable dalam phyton adalah case sensitive\u001b[0m\u001b[0;34m\u001b[0m\u001b[0;34m\u001b[0m\u001b[0m\n\u001b[0;32m----> 2\u001b[0;31m \u001b[0mprint\u001b[0m\u001b[0;34m(\u001b[0m\u001b[0mAngka\u001b[0m\u001b[0;34m)\u001b[0m \u001b[0;31m#ini salah\u001b[0m\u001b[0;34m\u001b[0m\u001b[0;34m\u001b[0m\u001b[0m\n\u001b[0m",
      "\u001b[0;31mNameError\u001b[0m: name 'Angka' is not defined"
     ]
    }
   ],
   "source": [
    "angka = 10 #variable dalam phyton adalah case sensitive\n",
    "print(Angka) #ini salah"
   ]
  },
  {
   "cell_type": "code",
   "execution_count": 5,
   "metadata": {},
   "outputs": [],
   "source": [
    "angka = 5"
   ]
  },
  {
   "cell_type": "code",
   "execution_count": 6,
   "metadata": {},
   "outputs": [
    {
     "data": {
      "text/plain": [
       "True"
      ]
     },
     "execution_count": 6,
     "metadata": {},
     "output_type": "execute_result"
    }
   ],
   "source": [
    "angka == 5 #kalau = artinya menyimppan jika 2 kali sama aja yang kayak di math/operator aritmatika. ini bakal true karna sudah kayak diatas"
   ]
  },
  {
   "cell_type": "code",
   "execution_count": 7,
   "metadata": {},
   "outputs": [
    {
     "data": {
      "text/plain": [
       "False"
      ]
     },
     "execution_count": 7,
     "metadata": {},
     "output_type": "execute_result"
    }
   ],
   "source": [
    "angka == 10 # salah karena gak di state kayak no 4"
   ]
  },
  {
   "cell_type": "code",
   "execution_count": 1,
   "metadata": {},
   "outputs": [
    {
     "name": "stdout",
     "output_type": "stream",
     "text": [
      "15 lebih besar dari 10\n"
     ]
    }
   ],
   "source": [
    "angka = 15 \n",
    "print(f\"{angka} lebih besar dari 10\")\n",
    "#penambahan f terus di taruh {} akan menjadi variable"
   ]
  },
  {
   "cell_type": "code",
   "execution_count": null,
   "metadata": {},
   "outputs": [],
   "source": []
  },
  {
   "cell_type": "code",
   "execution_count": 11,
   "metadata": {},
   "outputs": [
    {
     "name": "stdout",
     "output_type": "stream",
     "text": [
      "15 lebih besar dari 10\n"
     ]
    }
   ],
   "source": [
    "#the if condition is always boolean\n",
    "angka = 15\n",
    "if True: #kondisi if is true karena diawal abgka = 1\n",
    "    print(f\"{angka} lebih besar dari 10\")"
   ]
  },
  {
   "cell_type": "code",
   "execution_count": 12,
   "metadata": {},
   "outputs": [],
   "source": [
    "angka = 1\n",
    "if False: #doesnt show up cause the statement is false\n",
    "    print(f\"{angka} lebih besar dari 10\")"
   ]
  },
  {
   "cell_type": "code",
   "execution_count": 13,
   "metadata": {},
   "outputs": [
    {
     "data": {
      "text/plain": [
       "False"
      ]
     },
     "execution_count": 13,
     "metadata": {},
     "output_type": "execute_result"
    }
   ],
   "source": [
    "1 > 10"
   ]
  },
  {
   "cell_type": "code",
   "execution_count": 14,
   "metadata": {},
   "outputs": [
    {
     "data": {
      "text/plain": [
       "True"
      ]
     },
     "execution_count": 14,
     "metadata": {},
     "output_type": "execute_result"
    }
   ],
   "source": [
    "angka = 15\n",
    "angka > 10"
   ]
  },
  {
   "cell_type": "code",
   "execution_count": 15,
   "metadata": {},
   "outputs": [
    {
     "name": "stdout",
     "output_type": "stream",
     "text": [
      "15 lebih besar dari 10\n"
     ]
    }
   ],
   "source": [
    "#disebutnya kondisional\n",
    "angka = 15\n",
    "if angka > 10: #it runs because the statement is true \n",
    "    print(f\"{angka} lebih besar dari 10\")"
   ]
  },
  {
   "cell_type": "code",
   "execution_count": 16,
   "metadata": {},
   "outputs": [],
   "source": [
    "angka = 1\n",
    "if angka > 10: #the condition does not run cause the statement is false\n",
    "    print(f\"{angka} lebih besar dari 10\")"
   ]
  },
  {
   "cell_type": "code",
   "execution_count": 17,
   "metadata": {},
   "outputs": [
    {
     "name": "stdout",
     "output_type": "stream",
     "text": [
      "12 lebih besar dari 10\n",
      "baris ini masih di dalam if\n",
      "baris ini ada diluar if\n"
     ]
    }
   ],
   "source": [
    "angka = 12\n",
    "if angka > 10: #the condition does not run cause the statement is false\n",
    "    print(f\"{angka} lebih besar dari 10\")\n",
    "    print(\"baris ini masih di dalam if\")\n",
    "print(\"baris ini ada diluar if\")"
   ]
  },
  {
   "cell_type": "code",
   "execution_count": 18,
   "metadata": {},
   "outputs": [
    {
     "name": "stdout",
     "output_type": "stream",
     "text": [
      "baris ini ada diluar if\n"
     ]
    }
   ],
   "source": [
    "angka = 1\n",
    "if angka > 10: #the condition does not run cause the statement is false\n",
    "    print(f\"{angka} lebih besar dari 10\")\n",
    "    print(\"baris ini masih di dalam if\")\n",
    "print(\"baris ini ada diluar if\") # hanya ini yang ke run cause other statement are false cause they are inside if "
   ]
  },
  {
   "cell_type": "code",
   "execution_count": 1,
   "metadata": {},
   "outputs": [],
   "source": [
    "angka = 1\n",
    "if angka > 10: \n",
    "    print(f\"{angka} lebih besar dari 10\")\n",
    "    print(\"baris ini masih di dalam if\")\n",
    "    print(\"baris ini ada diluar if\") #kalo salah position bakal error"
   ]
  },
  {
   "cell_type": "code",
   "execution_count": 21,
   "metadata": {},
   "outputs": [
    {
     "name": "stdout",
     "output_type": "stream",
     "text": [
      "1 lebih kecil dari 10\n"
     ]
    }
   ],
   "source": [
    "angka = 1\n",
    "if angka > 10: \n",
    "    print(f\"{angka} lebih besar dari 10\")\n",
    "else: #else dan if harus sejajar, else is used to give option if the \"if\" stateement is false\n",
    "    print(f\"{angka} lebih kecil dari 10\")"
   ]
  },
  {
   "cell_type": "code",
   "execution_count": 22,
   "metadata": {},
   "outputs": [
    {
     "name": "stdout",
     "output_type": "stream",
     "text": [
      "11 lebih besar dari 10\n"
     ]
    }
   ],
   "source": [
    "angka = 11\n",
    "if angka > 10: \n",
    "    print(f\"{angka} lebih besar dari 10\")\n",
    "else: #else dan if harus sejajar \n",
    "    print(f\"{angka} lebih kecil dari 10\") "
   ]
  },
  {
   "cell_type": "code",
   "execution_count": 24,
   "metadata": {},
   "outputs": [
    {
     "name": "stdout",
     "output_type": "stream",
     "text": [
      "12 adalah genap\n"
     ]
    }
   ],
   "source": [
    "#cek genap\n",
    "angka = 12\n",
    "if angka % 2 == 0:\n",
    "    print(f\"{angka} adalah genap\")"
   ]
  },
  {
   "cell_type": "code",
   "execution_count": 26,
   "metadata": {},
   "outputs": [
    {
     "name": "stdout",
     "output_type": "stream",
     "text": [
      "13 adalah ganjil\n"
     ]
    }
   ],
   "source": [
    "#cek ganjil\n",
    "angka = 13\n",
    "if angka % 2 == 1:\n",
    "    print(f\"{angka} adalah ganjil\")"
   ]
  },
  {
   "cell_type": "code",
   "execution_count": 27,
   "metadata": {},
   "outputs": [
    {
     "name": "stdout",
     "output_type": "stream",
     "text": [
      "13 adalah ganjil\n"
     ]
    }
   ],
   "source": [
    "#cek ganjil\n",
    "angka = 13\n",
    "if angka % 2 != 0:\n",
    "    print(f\"{angka} adalah ganjil\")"
   ]
  },
  {
   "cell_type": "code",
   "execution_count": 29,
   "metadata": {},
   "outputs": [
    {
     "name": "stdout",
     "output_type": "stream",
     "text": [
      "13 adalah ganjil\n"
     ]
    }
   ],
   "source": [
    "#cek ganjil\n",
    "angka = 13\n",
    "if angka % 2 == 0:\n",
    "    print(f\"{angka} adalah genap\")\n",
    "else:\n",
    "    print(f\"{angka} adalah ganjil\")\n"
   ]
  },
  {
   "cell_type": "code",
   "execution_count": 30,
   "metadata": {},
   "outputs": [
    {
     "name": "stdout",
     "output_type": "stream",
     "text": [
      "11 lebih besar dari 10\n"
     ]
    }
   ],
   "source": [
    "angka = 11\n",
    "if angka > 10:\n",
    "    print(f\"{angka} lebih besar dari 10\")\n",
    "elif angka == 10: #kalo pake elfi jadi satu kesatuan\n",
    "    print(f\"{angka} sama dengan 10\")\n",
    "else:\n",
    "    print(f\"{angka} lebih kecil dari 10\")"
   ]
  },
  {
   "cell_type": "code",
   "execution_count": 31,
   "metadata": {},
   "outputs": [
    {
     "name": "stdout",
     "output_type": "stream",
     "text": [
      "1 lebih kecil dari 10\n"
     ]
    }
   ],
   "source": [
    "angka = 1\n",
    "if angka > 10:\n",
    "    print(f\"{angka} lebih besar dari 10\")\n",
    "elif angka == 10: #kalo pake elfi jadi satu kesatuan\n",
    "    print(f\"{angka} sama dengan 10\")\n",
    "else:\n",
    "    print(f\"{angka} lebih kecil dari 10\")"
   ]
  },
  {
   "cell_type": "code",
   "execution_count": 32,
   "metadata": {},
   "outputs": [
    {
     "name": "stdout",
     "output_type": "stream",
     "text": [
      "10 sama dengan 10\n"
     ]
    }
   ],
   "source": [
    "angka = 10\n",
    "if angka > 10:\n",
    "    print(f\"{angka} lebih besar dari 10\")\n",
    "elif angka == 10: #bisa berkali kali dipaek there canbe more than one elif\n",
    "    print(f\"{angka} sama dengan 10\")\n",
    "else:\n",
    "    print(f\"{angka} lebih kecil dari 10\")"
   ]
  },
  {
   "cell_type": "code",
   "execution_count": 2,
   "metadata": {},
   "outputs": [
    {
     "name": "stdout",
     "output_type": "stream",
     "text": [
      "11 lebih besar dari 10\n"
     ]
    }
   ],
   "source": [
    "#elif bisa lebih dari 3 kondisikalau lebih dari 2 kondisi selalu perbnayak elif\n",
    "angka = 11\n",
    "if angka > 10:\n",
    "    print(f\"{angka} lebih besar dari 10\")\n",
    "elif angka == 10: #bisa berkali kali dipaek there canbe more than one elif\n",
    "    print(f\"{angka} sama dengan 10\")\n",
    "else:\n",
    "    print(f\"{angka} lebih kecil dari 10\")"
   ]
  },
  {
   "cell_type": "code",
   "execution_count": 33,
   "metadata": {},
   "outputs": [],
   "source": [
    "#memastikan ada sesuatu di sebuah list gak \n",
    "menu = [\"nasi goreng\",\n",
    "        \"pempek\",\n",
    "        \"ckawe\",\n",
    "        \"martabak\"]"
   ]
  },
  {
   "cell_type": "code",
   "execution_count": 34,
   "metadata": {},
   "outputs": [
    {
     "data": {
      "text/plain": [
       "True"
      ]
     },
     "execution_count": 34,
     "metadata": {},
     "output_type": "execute_result"
    }
   ],
   "source": [
    "'nasi goreng' in menu"
   ]
  },
  {
   "cell_type": "code",
   "execution_count": 35,
   "metadata": {},
   "outputs": [
    {
     "data": {
      "text/plain": [
       "False"
      ]
     },
     "execution_count": 35,
     "metadata": {},
     "output_type": "execute_result"
    }
   ],
   "source": [
    "'sushi' in menu"
   ]
  },
  {
   "cell_type": "code",
   "execution_count": 36,
   "metadata": {},
   "outputs": [
    {
     "name": "stdout",
     "output_type": "stream",
     "text": [
      "abangnya jual pempek\n"
     ]
    }
   ],
   "source": [
    "makanan =  \"pempek\" #xcase sensitive\n",
    "if makanan in menu:\n",
    "    print(f\"abangnya jual {makanan}\")\n",
    "else:\n",
    "    print(f\"abnagnya ga jual {makanan}\")"
   ]
  },
  {
   "cell_type": "code",
   "execution_count": 37,
   "metadata": {},
   "outputs": [
    {
     "name": "stdout",
     "output_type": "stream",
     "text": [
      "abnagnya ga jual takoyaki\n"
     ]
    }
   ],
   "source": [
    "makanan =  \"takoyaki\"\n",
    "if makanan in menu:\n",
    "    print(f\"abangnya jual {makanan}\")\n",
    "else:\n",
    "    print(f\"abnagnya ga jual {makanan}\")"
   ]
  },
  {
   "cell_type": "code",
   "execution_count": 3,
   "metadata": {},
   "outputs": [
    {
     "name": "stdout",
     "output_type": "stream",
     "text": [
      "beli jeruk\n"
     ]
    }
   ],
   "source": [
    "#menggunakan if dalam if (nested if)\n",
    "tukang_buah = [\"jeruk\", \"pisang\", \"pepaya\", \"mangga\"] #ilihat ada berapa array di tukang buah\n",
    "if len(tukang_buah) > 3:\n",
    "    if 'jeruk' in tukang_buah:\n",
    "        print(\"beli jeruk\")\n",
    "    else:\n",
    "        print(\"mampir aja\")\n",
    "else:\n",
    "    print(\"cari yang lain bang\")"
   ]
  },
  {
   "cell_type": "code",
   "execution_count": 42,
   "metadata": {},
   "outputs": [
    {
     "name": "stdout",
     "output_type": "stream",
     "text": [
      "cari yang lain bang\n"
     ]
    }
   ],
   "source": [
    "#menggunakan if dalam if (nested if)\n",
    "tukang_buah = [\"jeruk\", \"pisang\"] #ilihat ada berapa array di tukang buah\n",
    "if len(tukang_buah) > 3:\n",
    "    if 'jeruk' in tukang_buah:\n",
    "        print(\"beli jeruk\")\n",
    "    else:\n",
    "        Print(\"mampir aja\")\n",
    "else:\n",
    "    print(\"cari yang lain bang\")"
   ]
  },
  {
   "cell_type": "code",
   "execution_count": 44,
   "metadata": {},
   "outputs": [
    {
     "name": "stdout",
     "output_type": "stream",
     "text": [
      "mampir aja\n"
     ]
    }
   ],
   "source": [
    "tukang_buah = [\"sirsak\", \"pisang\", \"pepaya\", \"mangga\"] #ilihat ada berapa array di tukang buah\n",
    "if len(tukang_buah) > 3:\n",
    "    if 'jeruk' in tukang_buah:\n",
    "        print(\"beli jeruk\")\n",
    "    else:\n",
    "        print(\"mampir aja\")\n",
    "else:\n",
    "    print(\"cari yang lain bang\")"
   ]
  },
  {
   "cell_type": "code",
   "execution_count": 40,
   "metadata": {},
   "outputs": [
    {
     "data": {
      "text/plain": [
       "4"
      ]
     },
     "execution_count": 40,
     "metadata": {},
     "output_type": "execute_result"
    }
   ],
   "source": [
    "len(tukang_buah)"
   ]
  },
  {
   "cell_type": "code",
   "execution_count": 46,
   "metadata": {},
   "outputs": [
    {
     "name": "stdout",
     "output_type": "stream",
     "text": [
      "yang lain ya\n"
     ]
    }
   ],
   "source": [
    "#combine 2 logika\n",
    "tukang_buah = [\"sirsak\", \"pisang\", \"mangga\"] \n",
    "if 'jeruk' in tukang_buah and \"mangga\" in tukang_buah: # and = replication, or  = addition. so replication first then additon \n",
    "    print(\"mampir\")\n",
    "else:\n",
    "    print(\"yang lain ya\")"
   ]
  },
  {
   "cell_type": "code",
   "execution_count": 47,
   "metadata": {},
   "outputs": [
    {
     "name": "stdout",
     "output_type": "stream",
     "text": [
      "mampir\n"
     ]
    }
   ],
   "source": [
    "tukang_buah = [\"sirsak\", \"pisang\", \"mangga\"] \n",
    "if 'jeruk' in tukang_buah or \"mangga\" in tukang_buah: #and and or addition is limitless\n",
    "    print(\"mampir\")\n",
    "else:\n",
    "    print(\"yang lain ya\")"
   ]
  },
  {
   "cell_type": "code",
   "execution_count": 4,
   "metadata": {},
   "outputs": [
    {
     "name": "stdout",
     "output_type": "stream",
     "text": [
      "nice\n",
      "gpp belajar lagi\n"
     ]
    }
   ],
   "source": [
    "nilai_bahasa=70\n",
    "nilai_matematika=90\n",
    "\n",
    "if nilai_matematika > 80:\n",
    "    print(\"nice\")\n",
    "    if nilai_bahasa < 75:\n",
    "        print(\"gpp belajar lagi\")\n",
    "    else:\n",
    "        print(\"waw slamat yaw\")\n",
    "else:\n",
    "    print(\"yaudah\")\n"
   ]
  },
  {
   "cell_type": "code",
   "execution_count": 50,
   "metadata": {},
   "outputs": [
    {
     "name": "stdout",
     "output_type": "stream",
     "text": [
      "B\n"
     ]
    }
   ],
   "source": [
    "#nilai A itu 85 -100\n",
    "#nilai b adalah 70-85\n",
    "#nilai c adalah 40 -70\n",
    "#nilai d adalah 20 - 40\n",
    "#nilai e adalah 0-20\n",
    "nilai = 75\n",
    "if nilai >= 85:\n",
    "    print(\"A\")\n",
    "elif nilai >=  70:\n",
    "    print(\"B\")\n",
    "elif nilai >= 40:\n",
    "    print(\"c\")\n",
    "elif nilai >= 20:\n",
    "    print(\"d\")\n",
    "else:\n",
    "    print(\"e\")\n"
   ]
  },
  {
   "cell_type": "code",
   "execution_count": 51,
   "metadata": {},
   "outputs": [
    {
     "name": "stdout",
     "output_type": "stream",
     "text": [
      "A\n"
     ]
    }
   ],
   "source": [
    "#pake range\n",
    "\n",
    "nilai = 80\n",
    "\n",
    "if nilai > 79 and nilai < 101:\n",
    "    print(\"A\")\n",
    "elif nilai > 64 and nilai < 80:\n",
    "    print(\"B\")\n",
    "elif nilai > 39 and nilai < 65:\n",
    "    print(\"C\")\n",
    "elif nilai > 19 and nilai < 39:\n",
    "    print(\"D\")\n",
    "elif nilai >= 0 and nilai < 20:\n",
    "    print(\"E\")\n",
    "else:\n",
    "    print(\"masukan nilai dalam range 0 - 100\")"
   ]
  },
  {
   "cell_type": "code",
   "execution_count": 68,
   "metadata": {},
   "outputs": [
    {
     "name": "stdout",
     "output_type": "stream",
     "text": [
      "nilai invalid\n"
     ]
    }
   ],
   "source": [
    "nilai = -5\n",
    "if nilai >= 0  and nilai <= 100:\n",
    "    if nilai >= 85:\n",
    "        print(\"A\")\n",
    "    elif nilai >=  70:\n",
    "        print(\"B\")\n",
    "    elif nilai >= 40:\n",
    "        print(\"c\")\n",
    "    elif nilai >= 20:\n",
    "        print(\"d\")\n",
    "    elif nilai >= 0:\n",
    "        print(\"e\")\n",
    "else:\n",
    "    print(\"nilai invalid\")"
   ]
  },
  {
   "cell_type": "code",
   "execution_count": 13,
   "metadata": {},
   "outputs": [
    {
     "ename": "AttributeError",
     "evalue": "'float' object has no attribute 'isnumeric'",
     "output_type": "error",
     "traceback": [
      "\u001b[0;31m---------------------------------------------------------------------------\u001b[0m",
      "\u001b[0;31mAttributeError\u001b[0m                            Traceback (most recent call last)",
      "\u001b[0;32m/var/folders/x9/8q15dpts6k7fkmqpl34bdnmw0000gn/T/ipykernel_2455/4018533582.py\u001b[0m in \u001b[0;36m<module>\u001b[0;34m\u001b[0m\n\u001b[1;32m      2\u001b[0m \u001b[0mnilai\u001b[0m\u001b[0;34m=\u001b[0m \u001b[0mfloat\u001b[0m\u001b[0;34m(\u001b[0m\u001b[0mnilai\u001b[0m\u001b[0;34m)\u001b[0m\u001b[0;34m\u001b[0m\u001b[0;34m\u001b[0m\u001b[0m\n\u001b[1;32m      3\u001b[0m \u001b[0;34m\u001b[0m\u001b[0m\n\u001b[0;32m----> 4\u001b[0;31m \u001b[0;32mif\u001b[0m \u001b[0mnilai\u001b[0m\u001b[0;34m.\u001b[0m\u001b[0misnumeric\u001b[0m\u001b[0;34m(\u001b[0m\u001b[0;34m)\u001b[0m\u001b[0;34m:\u001b[0m \u001b[0;31m# cek apakah input angka\u001b[0m\u001b[0;34m\u001b[0m\u001b[0;34m\u001b[0m\u001b[0m\n\u001b[0m\u001b[1;32m      5\u001b[0m     \u001b[0;32mif\u001b[0m \u001b[0;36m0\u001b[0m \u001b[0;34m<=\u001b[0m \u001b[0mnilai\u001b[0m \u001b[0;34m<=\u001b[0m \u001b[0;36m100\u001b[0m\u001b[0;34m:\u001b[0m\u001b[0;34m\u001b[0m\u001b[0;34m\u001b[0m\u001b[0m\n\u001b[1;32m      6\u001b[0m         \u001b[0;32mif\u001b[0m \u001b[0mnilai\u001b[0m \u001b[0;34m>\u001b[0m \u001b[0;36m80\u001b[0m\u001b[0;34m:\u001b[0m\u001b[0;34m\u001b[0m\u001b[0;34m\u001b[0m\u001b[0m\n",
      "\u001b[0;31mAttributeError\u001b[0m: 'float' object has no attribute 'isnumeric'"
     ]
    }
   ],
   "source": [
    "nilai = input(\"masukkan nilai : \")\n",
    "nilai= float(nilai)\n",
    "#nilai.isnumeric() cek apakah nput angka\n",
    "if 0 <= nilai <= 100:\n",
    "    if nilai > 80:\n",
    "            print(\"nilai A\") \n",
    "    elif nilai > 65:\n",
    "                print(\"nilai B\")\n",
    "    elif nilai > 40:\n",
    "                print(\"nilai C\")\n",
    "    elif nilai > 20:\n",
    "                print(\"nilai D\")\n",
    "    else:\n",
    "            print(\"nilai E\")\n",
    "else:\n",
    "    print(\"nilai invavlid\")"
   ]
  },
  {
   "cell_type": "code",
   "execution_count": 7,
   "metadata": {},
   "outputs": [],
   "source": [
    "nilai =  input(\"masukkan nilai: \")\n",
    "nilai = float(nilai)"
   ]
  },
  {
   "cell_type": "code",
   "execution_count": 8,
   "metadata": {},
   "outputs": [
    {
     "data": {
      "text/plain": [
       "15.0"
      ]
     },
     "execution_count": 8,
     "metadata": {},
     "output_type": "execute_result"
    }
   ],
   "source": [
    "nilai+ 5\n"
   ]
  },
  {
   "cell_type": "markdown",
   "metadata": {},
   "source": [
    "## LOOPING\n",
    "\n",
    "ada 2 jenis, while and for\n",
    "\n",
    "-while, selama memenuhi kondisi akan terus jalan "
   ]
  },
  {
   "cell_type": "code",
   "execution_count": 69,
   "metadata": {},
   "outputs": [],
   "source": [
    "angka = 0 #gimana cara update"
   ]
  },
  {
   "cell_type": "code",
   "execution_count": 71,
   "metadata": {},
   "outputs": [
    {
     "name": "stdout",
     "output_type": "stream",
     "text": [
      "2\n"
     ]
    }
   ],
   "source": [
    "angka = angka + 1 #menghasilkan value yang kiri dengan cara mengerjakan yang kanan\n",
    "print(angka)"
   ]
  },
  {
   "cell_type": "code",
   "execution_count": 73,
   "metadata": {},
   "outputs": [
    {
     "name": "stdout",
     "output_type": "stream",
     "text": [
      "i ke : 0\n",
      "halo, saya ppt\n",
      "i ke : 1\n",
      "halo, saya ppt\n",
      "i ke : 2\n",
      "halo, saya ppt\n",
      "i ke : 3\n",
      "halo, saya ppt\n",
      "i ke : 4\n",
      "halo, saya ppt\n"
     ]
    }
   ],
   "source": [
    "i = 0 \n",
    "while i < 5: #harus di update biar tidak terjadi infinite loop, kondisi tidak mesti angka\n",
    "    print(f\"i ke : {i}\")\n",
    "    print(\"halo, saya ppt\")\n",
    "    i = i + 1"
   ]
  },
  {
   "cell_type": "code",
   "execution_count": 74,
   "metadata": {},
   "outputs": [
    {
     "name": "stdout",
     "output_type": "stream",
     "text": [
      "5\n"
     ]
    }
   ],
   "source": [
    "print(i)"
   ]
  },
  {
   "cell_type": "code",
   "execution_count": 79,
   "metadata": {},
   "outputs": [],
   "source": [
    "pesanan = []\n",
    "pesan = ''\n",
    "while pesan != 'cukup':\n",
    "    pesan = input(\"masukkan pesanan anda : \")\n",
    "    if pesan != 'cukup':\n",
    "        pesanan.append(pesan)"
   ]
  },
  {
   "cell_type": "code",
   "execution_count": 80,
   "metadata": {},
   "outputs": [
    {
     "name": "stdout",
     "output_type": "stream",
     "text": [
      "['ayam']\n"
     ]
    }
   ],
   "source": [
    "print(pesanan)"
   ]
  },
  {
   "cell_type": "code",
   "execution_count": 83,
   "metadata": {},
   "outputs": [
    {
     "name": "stdout",
     "output_type": "stream",
     "text": [
      "7 x 1 = 7\n",
      "7 x 2 = 14\n",
      "7 x 3 = 21\n",
      "7 x 4 = 28\n",
      "7 x 5 = 35\n",
      "7 x 6 = 42\n",
      "7 x 7 = 49\n",
      "7 x 8 = 56\n",
      "7 x 9 = 63\n",
      "7 x 10 = 70\n"
     ]
    }
   ],
   "source": [
    "#tabel perklaian\n",
    "i = 1\n",
    "while i <= 10: \n",
    "    print(f\"7 x {i} = {7*i}\")\n",
    "    i = i + 1"
   ]
  },
  {
   "cell_type": "code",
   "execution_count": 87,
   "metadata": {},
   "outputs": [
    {
     "name": "stdout",
     "output_type": "stream",
     "text": [
      "1 x 1 = 1\n",
      "1 x 2 = 2\n",
      "1 x 3 = 3\n",
      "1 x 4 = 4\n",
      "1 x 5 = 5\n",
      "1 x 6 = 6\n",
      "1 x 7 = 7\n",
      "1 x 8 = 8\n",
      "1 x 9 = 9\n",
      "1 x 10 = 10\n",
      "**************************************************\n",
      "2 x 1 = 2\n",
      "2 x 2 = 4\n",
      "2 x 3 = 6\n",
      "2 x 4 = 8\n",
      "2 x 5 = 10\n",
      "2 x 6 = 12\n",
      "2 x 7 = 14\n",
      "2 x 8 = 16\n",
      "2 x 9 = 18\n",
      "2 x 10 = 20\n",
      "**************************************************\n",
      "3 x 1 = 3\n",
      "3 x 2 = 6\n",
      "3 x 3 = 9\n",
      "3 x 4 = 12\n",
      "3 x 5 = 15\n",
      "3 x 6 = 18\n",
      "3 x 7 = 21\n",
      "3 x 8 = 24\n",
      "3 x 9 = 27\n",
      "3 x 10 = 30\n",
      "**************************************************\n",
      "4 x 1 = 4\n",
      "4 x 2 = 8\n",
      "4 x 3 = 12\n",
      "4 x 4 = 16\n",
      "4 x 5 = 20\n",
      "4 x 6 = 24\n",
      "4 x 7 = 28\n",
      "4 x 8 = 32\n",
      "4 x 9 = 36\n",
      "4 x 10 = 40\n",
      "**************************************************\n",
      "5 x 1 = 5\n",
      "5 x 2 = 10\n",
      "5 x 3 = 15\n",
      "5 x 4 = 20\n",
      "5 x 5 = 25\n",
      "5 x 6 = 30\n",
      "5 x 7 = 35\n",
      "5 x 8 = 40\n",
      "5 x 9 = 45\n",
      "5 x 10 = 50\n",
      "**************************************************\n",
      "6 x 1 = 6\n",
      "6 x 2 = 12\n",
      "6 x 3 = 18\n",
      "6 x 4 = 24\n",
      "6 x 5 = 30\n",
      "6 x 6 = 36\n",
      "6 x 7 = 42\n",
      "6 x 8 = 48\n",
      "6 x 9 = 54\n",
      "6 x 10 = 60\n",
      "**************************************************\n",
      "7 x 1 = 7\n",
      "7 x 2 = 14\n",
      "7 x 3 = 21\n",
      "7 x 4 = 28\n",
      "7 x 5 = 35\n",
      "7 x 6 = 42\n",
      "7 x 7 = 49\n",
      "7 x 8 = 56\n",
      "7 x 9 = 63\n",
      "7 x 10 = 70\n",
      "**************************************************\n",
      "8 x 1 = 8\n",
      "8 x 2 = 16\n",
      "8 x 3 = 24\n",
      "8 x 4 = 32\n",
      "8 x 5 = 40\n",
      "8 x 6 = 48\n",
      "8 x 7 = 56\n",
      "8 x 8 = 64\n",
      "8 x 9 = 72\n",
      "8 x 10 = 80\n",
      "**************************************************\n",
      "9 x 1 = 9\n",
      "9 x 2 = 18\n",
      "9 x 3 = 27\n",
      "9 x 4 = 36\n",
      "9 x 5 = 45\n",
      "9 x 6 = 54\n",
      "9 x 7 = 63\n",
      "9 x 8 = 72\n",
      "9 x 9 = 81\n",
      "9 x 10 = 90\n",
      "**************************************************\n",
      "10 x 1 = 10\n",
      "10 x 2 = 20\n",
      "10 x 3 = 30\n",
      "10 x 4 = 40\n",
      "10 x 5 = 50\n",
      "10 x 6 = 60\n",
      "10 x 7 = 70\n",
      "10 x 8 = 80\n",
      "10 x 9 = 90\n",
      "10 x 10 = 100\n",
      "**************************************************\n"
     ]
    }
   ],
   "source": [
    "#nested while\n",
    "i = 1 #belakang\n",
    "j = 1 #depan\n",
    "\n",
    "while j <= 10:\n",
    "    while i <= 10:\n",
    "        print(f\"{j} x {i} = {j*i}\")\n",
    "        i =  i+1\n",
    "    j = j+1\n",
    "    i = 1\n",
    "    print(\"*\"*50) #divider doang\n"
   ]
  },
  {
   "cell_type": "code",
   "execution_count": 89,
   "metadata": {},
   "outputs": [
    {
     "name": "stdout",
     "output_type": "stream",
     "text": [
      "abang jualan sirsak\n",
      "abang jualan pisang\n",
      "abang jualan pepaya\n",
      "abang jualan mangga\n"
     ]
    }
   ],
   "source": [
    "tukang_buah = [\"sirsak\", \"pisang\", \"pepaya\", \"mangga\"]\n",
    "i = 0\n",
    "while i < len(tukang_buah):\n",
    "    print(f\"abang jualan {tukang_buah[i]}\")\n",
    "    i= i+1"
   ]
  },
  {
   "cell_type": "code",
   "execution_count": 14,
   "metadata": {},
   "outputs": [
    {
     "name": "stdout",
     "output_type": "stream",
     "text": [
      "abang jualan sirsak\n",
      "abang jualan pisang\n",
      "abang jualan pepaya\n",
      "abang jualan mangga\n"
     ]
    }
   ],
   "source": [
    "#forloop membutuhkan tipe data majemuk instead of condition, untuk setiap yang ada di data majemuk bakal ke absen/print\n",
    "#contoh kara majemuk untuk for loop adalah, list, tupple, dictionary\n",
    "tukang_buah = [\"sirsak\", \"pisang\", \"pepaya\", \"mangga\"]\n",
    "for buah in tukang_buah:\n",
    "    print(f\"abang jualan {buah}\")"
   ]
  },
  {
   "cell_type": "code",
   "execution_count": 15,
   "metadata": {},
   "outputs": [
    {
     "name": "stdout",
     "output_type": "stream",
     "text": [
      "abang jualan sirsak\n",
      "abang jualan pisang\n",
      "abang jualan pepaya\n",
      "abang jualan mangga\n"
     ]
    }
   ],
   "source": [
    "for i in [0,1,2,3]: #a bit tedious\n",
    "    print(f\"abang jualan {tukang_buah[i]}\")"
   ]
  },
  {
   "cell_type": "code",
   "execution_count": 92,
   "metadata": {},
   "outputs": [
    {
     "data": {
      "text/plain": [
       "[1, 3, 5, 7, 9]"
      ]
     },
     "execution_count": 92,
     "metadata": {},
     "output_type": "execute_result"
    }
   ],
   "source": [
    "#range, sebuha fungsi unutk membuat sebuah list dari angka yang berurutan \n",
    "# 1 yang di belakang interval\n",
    "list(range(1,10,2))\n"
   ]
  },
  {
   "cell_type": "code",
   "execution_count": 93,
   "metadata": {},
   "outputs": [
    {
     "data": {
      "text/plain": [
       "[0, 1, 2, 3, 4, 5, 6]"
      ]
     },
     "execution_count": 93,
     "metadata": {},
     "output_type": "execute_result"
    }
   ],
   "source": [
    "list(range(7))"
   ]
  },
  {
   "cell_type": "code",
   "execution_count": 94,
   "metadata": {},
   "outputs": [
    {
     "data": {
      "text/plain": [
       "[0, 1, 2, 3]"
      ]
     },
     "execution_count": 94,
     "metadata": {},
     "output_type": "execute_result"
    }
   ],
   "source": [
    "list(range(len(tukang_buah)))"
   ]
  },
  {
   "cell_type": "code",
   "execution_count": 18,
   "metadata": {},
   "outputs": [
    {
     "name": "stdout",
     "output_type": "stream",
     "text": [
      "abang jualan sirsak\n",
      "abang jualan pisang\n",
      "abang jualan pepaya\n",
      "abang jualan mangga\n"
     ]
    }
   ],
   "source": [
    "for i in range(len(tukang_buah)):\n",
    "    print(f\"abang jualan {tukang_buah[i]}\")"
   ]
  },
  {
   "cell_type": "code",
   "execution_count": 98,
   "metadata": {},
   "outputs": [
    {
     "name": "stdout",
     "output_type": "stream",
     "text": [
      "abang jualan sirsak, ket :stok dikit\n",
      "abang jualan pisang, ket :stok banyak\n",
      "abang jualan pepaya, ket :stok ga musim\n",
      "abang jualan mangga, ket :stok lahi dikirkm\n"
     ]
    }
   ],
   "source": [
    "tukang_buah = ['sirsak', 'pisang', 'pepaya', 'mangga']\n",
    "ket = ['stok dikit', 'stok banyak', 'stok ga musim', 'stok lahi dikirkm']\n",
    "for i in range(len(tukang_buah)):\n",
    "    print(f\"abang jualan {tukang_buah[i]}, ket :{ket[i]}\") #bakal keluar keterangan"
   ]
  },
  {
   "cell_type": "code",
   "execution_count": 95,
   "metadata": {},
   "outputs": [
    {
     "name": "stdout",
     "output_type": "stream",
     "text": [
      "7 x 1 = 7\n",
      "7 x 2 = 14\n",
      "7 x 3 = 21\n",
      "7 x 4 = 28\n",
      "7 x 5 = 35\n",
      "7 x 6 = 42\n",
      "7 x 7 = 49\n",
      "7 x 8 = 56\n",
      "7 x 9 = 63\n",
      "7 x 10 = 70\n"
     ]
    }
   ],
   "source": [
    "#perkaian pake for loop\n",
    "for i in range(1,11):\n",
    "    print(f\"7 x {i} = {7*i}\")"
   ]
  },
  {
   "cell_type": "code",
   "execution_count": 96,
   "metadata": {},
   "outputs": [
    {
     "name": "stdout",
     "output_type": "stream",
     "text": [
      "1 x 1 = 1\n",
      "1 x 2 = 2\n",
      "1 x 3 = 3\n",
      "1 x 4 = 4\n",
      "1 x 5 = 5\n",
      "1 x 6 = 6\n",
      "1 x 7 = 7\n",
      "1 x 8 = 8\n",
      "1 x 9 = 9\n",
      "1 x 10 = 10\n",
      "**************************************************\n",
      "2 x 1 = 2\n",
      "2 x 2 = 4\n",
      "2 x 3 = 6\n",
      "2 x 4 = 8\n",
      "2 x 5 = 10\n",
      "2 x 6 = 12\n",
      "2 x 7 = 14\n",
      "2 x 8 = 16\n",
      "2 x 9 = 18\n",
      "2 x 10 = 20\n",
      "**************************************************\n",
      "3 x 1 = 3\n",
      "3 x 2 = 6\n",
      "3 x 3 = 9\n",
      "3 x 4 = 12\n",
      "3 x 5 = 15\n",
      "3 x 6 = 18\n",
      "3 x 7 = 21\n",
      "3 x 8 = 24\n",
      "3 x 9 = 27\n",
      "3 x 10 = 30\n",
      "**************************************************\n",
      "4 x 1 = 4\n",
      "4 x 2 = 8\n",
      "4 x 3 = 12\n",
      "4 x 4 = 16\n",
      "4 x 5 = 20\n",
      "4 x 6 = 24\n",
      "4 x 7 = 28\n",
      "4 x 8 = 32\n",
      "4 x 9 = 36\n",
      "4 x 10 = 40\n",
      "**************************************************\n",
      "5 x 1 = 5\n",
      "5 x 2 = 10\n",
      "5 x 3 = 15\n",
      "5 x 4 = 20\n",
      "5 x 5 = 25\n",
      "5 x 6 = 30\n",
      "5 x 7 = 35\n",
      "5 x 8 = 40\n",
      "5 x 9 = 45\n",
      "5 x 10 = 50\n",
      "**************************************************\n",
      "6 x 1 = 6\n",
      "6 x 2 = 12\n",
      "6 x 3 = 18\n",
      "6 x 4 = 24\n",
      "6 x 5 = 30\n",
      "6 x 6 = 36\n",
      "6 x 7 = 42\n",
      "6 x 8 = 48\n",
      "6 x 9 = 54\n",
      "6 x 10 = 60\n",
      "**************************************************\n",
      "7 x 1 = 7\n",
      "7 x 2 = 14\n",
      "7 x 3 = 21\n",
      "7 x 4 = 28\n",
      "7 x 5 = 35\n",
      "7 x 6 = 42\n",
      "7 x 7 = 49\n",
      "7 x 8 = 56\n",
      "7 x 9 = 63\n",
      "7 x 10 = 70\n",
      "**************************************************\n",
      "8 x 1 = 8\n",
      "8 x 2 = 16\n",
      "8 x 3 = 24\n",
      "8 x 4 = 32\n",
      "8 x 5 = 40\n",
      "8 x 6 = 48\n",
      "8 x 7 = 56\n",
      "8 x 8 = 64\n",
      "8 x 9 = 72\n",
      "8 x 10 = 80\n",
      "**************************************************\n",
      "9 x 1 = 9\n",
      "9 x 2 = 18\n",
      "9 x 3 = 27\n",
      "9 x 4 = 36\n",
      "9 x 5 = 45\n",
      "9 x 6 = 54\n",
      "9 x 7 = 63\n",
      "9 x 8 = 72\n",
      "9 x 9 = 81\n",
      "9 x 10 = 90\n",
      "**************************************************\n",
      "10 x 1 = 10\n",
      "10 x 2 = 20\n",
      "10 x 3 = 30\n",
      "10 x 4 = 40\n",
      "10 x 5 = 50\n",
      "10 x 6 = 60\n",
      "10 x 7 = 70\n",
      "10 x 8 = 80\n",
      "10 x 9 = 90\n",
      "10 x 10 = 100\n",
      "**************************************************\n"
     ]
    }
   ],
   "source": [
    "#for loop sistem absen \n",
    "for j in range(1,11):\n",
    "    for i in range(1,11):\n",
    "        print(f\"{j} x {i} = {j*i}\")\n",
    "    print(\"*\"*50)"
   ]
  },
  {
   "cell_type": "code",
   "execution_count": null,
   "metadata": {},
   "outputs": [],
   "source": []
  },
  {
   "cell_type": "code",
   "execution_count": null,
   "metadata": {},
   "outputs": [],
   "source": [
    "#looping jika kondisi memenuhi akna selalu jalan hile butuh kondisi tapi caranya beda,\n",
    "#jika kondisi is true akan dijalankan yang dibawahnya\n",
    "# if statement: if <(kondisi, dibuat boolean): ketika ketemu titik 2 baris kedua akan menjorong ke dalam if akan terjadi jika statement benar komen menjorok kedalam namanya indentation\n",
    "#condition statement is boolean\n"
   ]
  }
 ],
 "metadata": {
  "interpreter": {
   "hash": "4c564cc6d12ebe49557ab23b6895edf33cd00168d0897e6bbcf40e918540c474"
  },
  "kernelspec": {
   "display_name": "Python 3.9.7 ('base')",
   "language": "python",
   "name": "python3"
  },
  "language_info": {
   "codemirror_mode": {
    "name": "ipython",
    "version": 3
   },
   "file_extension": ".py",
   "mimetype": "text/x-python",
   "name": "python",
   "nbconvert_exporter": "python",
   "pygments_lexer": "ipython3",
   "version": "3.9.7"
  },
  "orig_nbformat": 4
 },
 "nbformat": 4,
 "nbformat_minor": 2
}
