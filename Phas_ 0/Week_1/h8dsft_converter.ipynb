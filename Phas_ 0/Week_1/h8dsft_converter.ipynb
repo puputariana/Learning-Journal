{
 "cells": [
  {
   "cell_type": "code",
   "execution_count": 7,
   "metadata": {},
   "outputs": [
    {
     "data": {
      "text/plain": [
       "(('kelvin to celsius: ', -183.14999999999998), ('celcius to kelvin:', 338.15))"
      ]
     },
     "execution_count": 7,
     "metadata": {},
     "output_type": "execute_result"
    }
   ],
   "source": [
    "#Buatlah sebuah function yang dapat mengkonversi suhu dari kelvin ke celcius, dan celcius ke kelvin.\n",
    "\n",
    "def convert_temperature(kelvin,celsius): #function method\n",
    "    celsius_temp = \"celcius to kelvin:\", celsius + 273.15 #merubah celcius ke kelvin\n",
    "    kelvin_temp = \"kelvin to celsius: \", kelvin - 273.15  #merubah kelvin ke celcius\n",
    "    return kelvin_temp, celsius_temp #memanggil function\n",
    "convert_temperature(90,65) #hasil\n"
   ]
  },
  {
   "cell_type": "code",
   "execution_count": 3,
   "metadata": {},
   "outputs": [
    {
     "name": "stdout",
     "output_type": "stream",
     "text": [
      "(('fahrenheit to celcius:', 37.77777777777778), ('fahrenheit to kelvin: ', 310.92777777777775))\n"
     ]
    }
   ],
   "source": [
    "#Buatlah sebuah function yang dapat mengkonversi suhu dari fahrenheit\n",
    "\n",
    "def from_fahrenheit(t): #function method\n",
    "    f_to_c = \"fahrenheit to celcius:\", (t- 32) * 5/9 #merubah celcius ke kelvin\n",
    "    f_to_k = \"fahrenheit to kelvin: \", 5 * (t-32)/9 + 273.15  #merubah kelvin ke celcius\n",
    "    return f_to_c , f_to_k #memanggil function\n",
    "print(from_fahrenheit(100)) #hasil"
   ]
  },
  {
   "cell_type": "code",
   "execution_count": 82,
   "metadata": {},
   "outputs": [
    {
     "name": "stdout",
     "output_type": "stream",
     "text": [
      "(('celsius to fahrenheit:', 194.0), ('kelvin to fahrenheit:', -342.40000000000003))\n"
     ]
    }
   ],
   "source": [
    "#Buatlah sebuah function yang dapat mengkonversi suhu ke fahrenheit. Tambahkan parameter untuk memastikan bahwa \n",
    "# argumen yang dimasukan adalah celcius atau kelvin. Panggil function yang pertama jika diperlukan\n",
    "def to_fahrenheit(celsius, kelvin): #function method\n",
    "    c_to_f = \"celsius to fahrenheit:\", (celsius * 1.8) + 32 #merubah celcius ke kelvin\n",
    "    k_to_f = \"kelvin to fahrenheit:\", 1.8 * (kelvin - 273) + 32 #merubah kelvin ke celcius\n",
    "    return c_to_f, k_to_f #memanggil function\n",
    "print(to_fahrenheit(90,65)) #hasil"
   ]
  }
 ],
 "metadata": {
  "interpreter": {
   "hash": "4c564cc6d12ebe49557ab23b6895edf33cd00168d0897e6bbcf40e918540c474"
  },
  "kernelspec": {
   "display_name": "Python 3.9.7 ('base')",
   "language": "python",
   "name": "python3"
  },
  "language_info": {
   "codemirror_mode": {
    "name": "ipython",
    "version": 3
   },
   "file_extension": ".py",
   "mimetype": "text/x-python",
   "name": "python",
   "nbconvert_exporter": "python",
   "pygments_lexer": "ipython3",
   "version": "3.9.7"
  },
  "orig_nbformat": 4
 },
 "nbformat": 4,
 "nbformat_minor": 2
}
