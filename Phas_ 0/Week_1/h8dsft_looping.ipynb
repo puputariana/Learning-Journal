{
 "cells": [
  {
   "cell_type": "code",
   "execution_count": 19,
   "metadata": {},
   "outputs": [
    {
     "name": "stdout",
     "output_type": "stream",
     "text": [
      "402\n",
      "984\n",
      "360\n",
      "408\n",
      "980\n",
      "544\n",
      "390\n",
      "984\n",
      "592\n",
      "236\n",
      "942\n",
      "386\n",
      "462\n",
      "418\n",
      "344\n",
      "236\n",
      "566\n",
      "978\n",
      "328\n",
      "162\n",
      "758\n",
      "918\n",
      "done\n"
     ]
    }
   ],
   "source": [
    "numbers = [951, 402, 984, 651, 360, 69, 408,\n",
    "319, 601, 485, 980, 507, 725, 547, 544, 615,\n",
    "83, 165, 141, 501, 263, 617, 865, 575, 219, \n",
    "390, 984, 592, 236, 105, 942, 941, 386, 462, \n",
    "47, 418, 907, 344, 236, 375, 823, 566, 597, \n",
    "978, 328, 615, 953, 345, 399, 162, 758, 219, \n",
    "918, 237, 412, 566, 826, 248, 866, 950, 626, \n",
    "949]\n",
    "i = 0\n",
    "\n",
    "for i in numbers[:numbers.index(237)]:\n",
    "    if i % 2 == 0:\n",
    "        print(f\"{i}\")\n",
    "        i += 1\n",
    "print(\"done\")"
   ]
  },
  {
   "cell_type": "code",
   "execution_count": 13,
   "metadata": {},
   "outputs": [
    {
     "ename": "SyntaxError",
     "evalue": "invalid syntax (1882288738.py, line 12)",
     "output_type": "error",
     "traceback": [
      "\u001b[0;36m  File \u001b[0;32m\"/var/folders/x9/8q15dpts6k7fkmqpl34bdnmw0000gn/T/ipykernel_932/1882288738.py\"\u001b[0;36m, line \u001b[0;32m12\u001b[0m\n\u001b[0;31m    while i in numbers <= [:numbers.index(918)]:\u001b[0m\n\u001b[0m                           ^\u001b[0m\n\u001b[0;31mSyntaxError\u001b[0m\u001b[0;31m:\u001b[0m invalid syntax\n"
     ]
    }
   ],
   "source": [
    "numbers = [951, 402, 984, 651, 360, 69, 408,\n",
    "319, 601, 485, 980, 507, 725, 547, 544, 615,\n",
    "83, 165, 141, 501, 263, 617, 865, 575, 219, \n",
    "390, 984, 592, 236, 105, 942, 941, 386, 462, \n",
    "47, 418, 907, 344, 236, 375, 823, 566, 597, \n",
    "978, 328, 615, 953, 345, 399, 162, 758, 219, \n",
    "918, 237, 412, 566, 826, 248, 866, 950, 626, \n",
    "949]\n",
    "\n",
    "\n",
    "i = 0\n",
    "while i in numbers <= [:numbers.index(918)]:\n",
    "    i += 1\n",
    "    if i % 2 == 0:\n",
    "        break # Break Statement\n",
    "    print(numbers[i])\n",
    "print('Loop ended.')\n",
    "\n",
    "\n"
   ]
  },
  {
   "cell_type": "code",
   "execution_count": null,
   "metadata": {},
   "outputs": [],
   "source": []
  }
 ],
 "metadata": {
  "interpreter": {
   "hash": "4c564cc6d12ebe49557ab23b6895edf33cd00168d0897e6bbcf40e918540c474"
  },
  "kernelspec": {
   "display_name": "Python 3.9.7 ('base')",
   "language": "python",
   "name": "python3"
  },
  "language_info": {
   "codemirror_mode": {
    "name": "ipython",
    "version": 3
   },
   "file_extension": ".py",
   "mimetype": "text/x-python",
   "name": "python",
   "nbconvert_exporter": "python",
   "pygments_lexer": "ipython3",
   "version": "3.9.7"
  },
  "orig_nbformat": 4
 },
 "nbformat": 4,
 "nbformat_minor": 2
}
